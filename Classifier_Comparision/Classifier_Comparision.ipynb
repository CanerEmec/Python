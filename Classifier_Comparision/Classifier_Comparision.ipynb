{
 "cells": [
  {
   "cell_type": "markdown",
   "metadata": {
    "_cell_guid": "b1076dfc-b9ad-4769-8c92-a6c4dae69d19",
    "_uuid": "8f2839f25d086af736a60e9eeb907d3b93b6e0e5"
   },
   "source": [
    " # **GİRİŞ**\n",
    "\n",
    "*Bu çalışmada \"Biomechanical features of orthopedic patients\" veriseti kullanılarak Logistic Regression, KNN, SVM,Naive Bayes, Decision Tree ve  Random Forest sınıflandırıcıları karşılaştırılmıştır.*\n",
    "\n",
    "Sırasıyla şu adımlar izlenmiştir;\n",
    "* Kütüphanelerin İmport Edilmesi.\n",
    "* Verisetinin Alınması.\n",
    "* Verisetinin İncelenmesi.\n",
    "* Veri İçerisinden Özellikler İle Etiketlerin Çıkartılması Ve Etiketlerin İnteger Değer Olarak Belirtilmesi.\n",
    "* Normalizasyon İşlemi.\n",
    "* Verinin Eğitim Ve Test Verisi Olarak Ayrılması.\n",
    "* KNN Modelinin Kurulması Ve Test Edilmesi.\n",
    "* Naive Bayes Modelinin Kurulması Ve Test Edilmesi.\n",
    "* SVM Modelinin Kurulması Ve Test Edilmesi.\n",
    "* Decision Tree Modelinin Kurulması Ve Test Edilmesi.\n",
    "* Random Forest Modelinin Kurulması Ve Test Edilmesi.\n",
    "* Logistic Regression Modelinin Kurulması Ve Test Edilmesi.\n",
    "* Performansların Karşılaştırılması."
   ]
  },
  {
   "cell_type": "markdown",
   "metadata": {
    "_uuid": "cf3e039d8099f106d4f38c61c411f06c68c2ca59"
   },
   "source": [
    "**ADIM 1: Kütüphanelerin İmport Edilmesi.**"
   ]
  },
  {
   "cell_type": "code",
   "execution_count": 1,
   "metadata": {
    "_cell_guid": "79c7e3d0-c299-4dcb-8224-4455121ee9b0",
    "_uuid": "d629ff2d2480ee46fbb7e2d37f6b5fab8052498a"
   },
   "outputs": [],
   "source": [
    "# Kütüphaneler import ediliyor..\n",
    "import numpy as np # linear algebra\n",
    "import pandas as pd # data processing, CSV file I/O (e.g. pd.read_csv)\n",
    "import matplotlib.pyplot as plt \n",
    "import os"
   ]
  },
  {
   "cell_type": "markdown",
   "metadata": {
    "_uuid": "528016470e553cb7d0bce7e9f1ab8de85da06aad"
   },
   "source": [
    "**ADIM 2: Verisetinin Alınması.**"
   ]
  },
  {
   "cell_type": "code",
   "execution_count": 2,
   "metadata": {
    "_uuid": "2f018f03a36403f35470e79846e00c3925da54f7"
   },
   "outputs": [],
   "source": [
    "# Veriseti alındı..\n",
    "data = pd.read_csv('column_2C_weka.csv')"
   ]
  },
  {
   "cell_type": "markdown",
   "metadata": {
    "_uuid": "867c192a0bc6c2e7d95e2e094d5deafb269ff73b"
   },
   "source": [
    "**ADIM 3: Verisetinin İncelenmesi. **"
   ]
  },
  {
   "cell_type": "code",
   "execution_count": 3,
   "metadata": {
    "_uuid": "686b07357afb2de4b8de2b8d642cd06e190522b8"
   },
   "outputs": [
    {
     "data": {
      "text/html": [
       "<div>\n",
       "<style scoped>\n",
       "    .dataframe tbody tr th:only-of-type {\n",
       "        vertical-align: middle;\n",
       "    }\n",
       "\n",
       "    .dataframe tbody tr th {\n",
       "        vertical-align: top;\n",
       "    }\n",
       "\n",
       "    .dataframe thead th {\n",
       "        text-align: right;\n",
       "    }\n",
       "</style>\n",
       "<table border=\"1\" class=\"dataframe\">\n",
       "  <thead>\n",
       "    <tr style=\"text-align: right;\">\n",
       "      <th></th>\n",
       "      <th>pelvic_incidence</th>\n",
       "      <th>pelvic_tilt numeric</th>\n",
       "      <th>lumbar_lordosis_angle</th>\n",
       "      <th>sacral_slope</th>\n",
       "      <th>pelvic_radius</th>\n",
       "      <th>degree_spondylolisthesis</th>\n",
       "      <th>class</th>\n",
       "    </tr>\n",
       "  </thead>\n",
       "  <tbody>\n",
       "    <tr>\n",
       "      <th>0</th>\n",
       "      <td>63.027818</td>\n",
       "      <td>22.552586</td>\n",
       "      <td>39.609117</td>\n",
       "      <td>40.475232</td>\n",
       "      <td>98.672917</td>\n",
       "      <td>-0.254400</td>\n",
       "      <td>Abnormal</td>\n",
       "    </tr>\n",
       "    <tr>\n",
       "      <th>1</th>\n",
       "      <td>39.056951</td>\n",
       "      <td>10.060991</td>\n",
       "      <td>25.015378</td>\n",
       "      <td>28.995960</td>\n",
       "      <td>114.405425</td>\n",
       "      <td>4.564259</td>\n",
       "      <td>Abnormal</td>\n",
       "    </tr>\n",
       "    <tr>\n",
       "      <th>2</th>\n",
       "      <td>68.832021</td>\n",
       "      <td>22.218482</td>\n",
       "      <td>50.092194</td>\n",
       "      <td>46.613539</td>\n",
       "      <td>105.985135</td>\n",
       "      <td>-3.530317</td>\n",
       "      <td>Abnormal</td>\n",
       "    </tr>\n",
       "    <tr>\n",
       "      <th>3</th>\n",
       "      <td>69.297008</td>\n",
       "      <td>24.652878</td>\n",
       "      <td>44.311238</td>\n",
       "      <td>44.644130</td>\n",
       "      <td>101.868495</td>\n",
       "      <td>11.211523</td>\n",
       "      <td>Abnormal</td>\n",
       "    </tr>\n",
       "    <tr>\n",
       "      <th>4</th>\n",
       "      <td>49.712859</td>\n",
       "      <td>9.652075</td>\n",
       "      <td>28.317406</td>\n",
       "      <td>40.060784</td>\n",
       "      <td>108.168725</td>\n",
       "      <td>7.918501</td>\n",
       "      <td>Abnormal</td>\n",
       "    </tr>\n",
       "  </tbody>\n",
       "</table>\n",
       "</div>"
      ],
      "text/plain": [
       "   pelvic_incidence  pelvic_tilt numeric  lumbar_lordosis_angle  sacral_slope  \\\n",
       "0         63.027818            22.552586              39.609117     40.475232   \n",
       "1         39.056951            10.060991              25.015378     28.995960   \n",
       "2         68.832021            22.218482              50.092194     46.613539   \n",
       "3         69.297008            24.652878              44.311238     44.644130   \n",
       "4         49.712859             9.652075              28.317406     40.060784   \n",
       "\n",
       "   pelvic_radius  degree_spondylolisthesis     class  \n",
       "0      98.672917                 -0.254400  Abnormal  \n",
       "1     114.405425                  4.564259  Abnormal  \n",
       "2     105.985135                 -3.530317  Abnormal  \n",
       "3     101.868495                 11.211523  Abnormal  \n",
       "4     108.168725                  7.918501  Abnormal  "
      ]
     },
     "execution_count": 3,
     "metadata": {},
     "output_type": "execute_result"
    }
   ],
   "source": [
    "# Verisetinin içeriğinden küçük bir kısım aşağıda görülmektedir.\n",
    "data.head()"
   ]
  },
  {
   "cell_type": "code",
   "execution_count": 4,
   "metadata": {
    "_uuid": "5ea2f51bf14e53751102586996880735c9da0c29"
   },
   "outputs": [
    {
     "name": "stdout",
     "output_type": "stream",
     "text": [
      "<class 'pandas.core.frame.DataFrame'>\n",
      "RangeIndex: 310 entries, 0 to 309\n",
      "Data columns (total 7 columns):\n",
      "pelvic_incidence            310 non-null float64\n",
      "pelvic_tilt numeric         310 non-null float64\n",
      "lumbar_lordosis_angle       310 non-null float64\n",
      "sacral_slope                310 non-null float64\n",
      "pelvic_radius               310 non-null float64\n",
      "degree_spondylolisthesis    310 non-null float64\n",
      "class                       310 non-null object\n",
      "dtypes: float64(6), object(1)\n",
      "memory usage: 17.0+ KB\n"
     ]
    }
   ],
   "source": [
    "data.info()"
   ]
  },
  {
   "cell_type": "code",
   "execution_count": 5,
   "metadata": {
    "_uuid": "e087d0b1e75c05ea2bda780e7c4b5b9b416661a8"
   },
   "outputs": [
    {
     "data": {
      "text/html": [
       "<div>\n",
       "<style scoped>\n",
       "    .dataframe tbody tr th:only-of-type {\n",
       "        vertical-align: middle;\n",
       "    }\n",
       "\n",
       "    .dataframe tbody tr th {\n",
       "        vertical-align: top;\n",
       "    }\n",
       "\n",
       "    .dataframe thead th {\n",
       "        text-align: right;\n",
       "    }\n",
       "</style>\n",
       "<table border=\"1\" class=\"dataframe\">\n",
       "  <thead>\n",
       "    <tr style=\"text-align: right;\">\n",
       "      <th></th>\n",
       "      <th>pelvic_incidence</th>\n",
       "      <th>pelvic_tilt numeric</th>\n",
       "      <th>lumbar_lordosis_angle</th>\n",
       "      <th>sacral_slope</th>\n",
       "      <th>pelvic_radius</th>\n",
       "      <th>degree_spondylolisthesis</th>\n",
       "    </tr>\n",
       "  </thead>\n",
       "  <tbody>\n",
       "    <tr>\n",
       "      <th>count</th>\n",
       "      <td>310.000000</td>\n",
       "      <td>310.000000</td>\n",
       "      <td>310.000000</td>\n",
       "      <td>310.000000</td>\n",
       "      <td>310.000000</td>\n",
       "      <td>310.000000</td>\n",
       "    </tr>\n",
       "    <tr>\n",
       "      <th>mean</th>\n",
       "      <td>60.496653</td>\n",
       "      <td>17.542822</td>\n",
       "      <td>51.930930</td>\n",
       "      <td>42.953831</td>\n",
       "      <td>117.920655</td>\n",
       "      <td>26.296694</td>\n",
       "    </tr>\n",
       "    <tr>\n",
       "      <th>std</th>\n",
       "      <td>17.236520</td>\n",
       "      <td>10.008330</td>\n",
       "      <td>18.554064</td>\n",
       "      <td>13.423102</td>\n",
       "      <td>13.317377</td>\n",
       "      <td>37.559027</td>\n",
       "    </tr>\n",
       "    <tr>\n",
       "      <th>min</th>\n",
       "      <td>26.147921</td>\n",
       "      <td>-6.554948</td>\n",
       "      <td>14.000000</td>\n",
       "      <td>13.366931</td>\n",
       "      <td>70.082575</td>\n",
       "      <td>-11.058179</td>\n",
       "    </tr>\n",
       "    <tr>\n",
       "      <th>25%</th>\n",
       "      <td>46.430294</td>\n",
       "      <td>10.667069</td>\n",
       "      <td>37.000000</td>\n",
       "      <td>33.347122</td>\n",
       "      <td>110.709196</td>\n",
       "      <td>1.603727</td>\n",
       "    </tr>\n",
       "    <tr>\n",
       "      <th>50%</th>\n",
       "      <td>58.691038</td>\n",
       "      <td>16.357689</td>\n",
       "      <td>49.562398</td>\n",
       "      <td>42.404912</td>\n",
       "      <td>118.268178</td>\n",
       "      <td>11.767934</td>\n",
       "    </tr>\n",
       "    <tr>\n",
       "      <th>75%</th>\n",
       "      <td>72.877696</td>\n",
       "      <td>22.120395</td>\n",
       "      <td>63.000000</td>\n",
       "      <td>52.695888</td>\n",
       "      <td>125.467674</td>\n",
       "      <td>41.287352</td>\n",
       "    </tr>\n",
       "    <tr>\n",
       "      <th>max</th>\n",
       "      <td>129.834041</td>\n",
       "      <td>49.431864</td>\n",
       "      <td>125.742385</td>\n",
       "      <td>121.429566</td>\n",
       "      <td>163.071041</td>\n",
       "      <td>418.543082</td>\n",
       "    </tr>\n",
       "  </tbody>\n",
       "</table>\n",
       "</div>"
      ],
      "text/plain": [
       "       pelvic_incidence  pelvic_tilt numeric  lumbar_lordosis_angle  \\\n",
       "count        310.000000           310.000000             310.000000   \n",
       "mean          60.496653            17.542822              51.930930   \n",
       "std           17.236520            10.008330              18.554064   \n",
       "min           26.147921            -6.554948              14.000000   \n",
       "25%           46.430294            10.667069              37.000000   \n",
       "50%           58.691038            16.357689              49.562398   \n",
       "75%           72.877696            22.120395              63.000000   \n",
       "max          129.834041            49.431864             125.742385   \n",
       "\n",
       "       sacral_slope  pelvic_radius  degree_spondylolisthesis  \n",
       "count    310.000000     310.000000                310.000000  \n",
       "mean      42.953831     117.920655                 26.296694  \n",
       "std       13.423102      13.317377                 37.559027  \n",
       "min       13.366931      70.082575                -11.058179  \n",
       "25%       33.347122     110.709196                  1.603727  \n",
       "50%       42.404912     118.268178                 11.767934  \n",
       "75%       52.695888     125.467674                 41.287352  \n",
       "max      121.429566     163.071041                418.543082  "
      ]
     },
     "execution_count": 5,
     "metadata": {},
     "output_type": "execute_result"
    }
   ],
   "source": [
    "data.describe()\n"
   ]
  },
  {
   "cell_type": "markdown",
   "metadata": {
    "_uuid": "86ba6b2592e4113f5f35c1ac1036a46cab6ac067"
   },
   "source": [
    "**ADIM 4:  Veri İçerisinden Özellikler İle Etiketlerin Çıkartılması Ve Etiketlerin İnteger Değer Olarak Belirtilmesi.**"
   ]
  },
  {
   "cell_type": "code",
   "execution_count": 6,
   "metadata": {
    "_uuid": "0c16036652215b3c4931aa55fa4fe731f5cd95ab"
   },
   "outputs": [],
   "source": [
    "#%% Veri sayısal olarak ifade ediliyor.\n",
    "\n",
    "data.loc[:,'class'] = [1 if each == 'Normal' else 0 for each in data.loc[:,'class'] ]\n",
    "Labels = data.loc[:,'class']\n",
    "\n",
    "x = data.drop([\"class\"],axis = 1)\n"
   ]
  },
  {
   "cell_type": "markdown",
   "metadata": {
    "_uuid": "ec9e94f2cafe296c210619a6b66d7cded9f9aa04"
   },
   "source": [
    "**ADIM 5: Normalizasyon İşlemi.**"
   ]
  },
  {
   "cell_type": "code",
   "execution_count": 7,
   "metadata": {
    "_uuid": "d1834b43fe4113c7d32a670c5483c4d22bcaa774",
    "scrolled": true
   },
   "outputs": [
    {
     "name": "stdout",
     "output_type": "stream",
     "text": [
      "NORMALİZASYON İŞLEMİ ÖNCESİ: \n",
      "Min :\n",
      "pelvic_incidence            26.147921\n",
      "pelvic_tilt numeric         -6.554948\n",
      "lumbar_lordosis_angle       14.000000\n",
      "sacral_slope                13.366931\n",
      "pelvic_radius               70.082575\n",
      "degree_spondylolisthesis   -11.058179\n",
      "dtype: float64\n",
      "\n",
      "Max :\n",
      "pelvic_incidence            129.834041\n",
      "pelvic_tilt numeric          49.431864\n",
      "lumbar_lordosis_angle       125.742385\n",
      "sacral_slope                121.429566\n",
      "pelvic_radius               163.071041\n",
      "degree_spondylolisthesis    418.543082\n",
      "dtype: float64\n",
      "\n",
      "\n",
      "NORMALİZASYON İŞLEMİ SONRASI: \n",
      "Min :\n",
      "pelvic_incidence            0.0\n",
      "pelvic_tilt numeric         0.0\n",
      "lumbar_lordosis_angle       0.0\n",
      "sacral_slope                0.0\n",
      "pelvic_radius               0.0\n",
      "degree_spondylolisthesis    0.0\n",
      "dtype: float64\n",
      "\n",
      "Max :\n",
      "pelvic_incidence            1.0\n",
      "pelvic_tilt numeric         1.0\n",
      "lumbar_lordosis_angle       1.0\n",
      "sacral_slope                1.0\n",
      "pelvic_radius               1.0\n",
      "degree_spondylolisthesis    1.0\n",
      "dtype: float64\n"
     ]
    }
   ],
   "source": [
    "#%% Normalizasyon..\n",
    "x_norm = (x - np.min(x))/(np.max(x) - np.min(x))\n",
    "\n",
    "print(\"NORMALİZASYON İŞLEMİ ÖNCESİ:\",\n",
    "      \"\\nMin :\")\n",
    "print(np.min(x))\n",
    "print(\"\\nMax :\")\n",
    "print(np.max(x))\n",
    "\n",
    "\n",
    "print(\"\\n\\nNORMALİZASYON İŞLEMİ SONRASI:\",\n",
    "      \"\\nMin :\")\n",
    "print(np.min(x_norm))\n",
    "print(\"\\nMax :\")\n",
    "print(np.max(x_norm))"
   ]
  },
  {
   "cell_type": "markdown",
   "metadata": {
    "_uuid": "fc2a93ae92205efff3883f5b63922aef0289aede"
   },
   "source": [
    "**ADIM 6: Verinin Eğitim ve Test Verisi Olarak Ayrılması.**"
   ]
  },
  {
   "cell_type": "code",
   "execution_count": 8,
   "metadata": {
    "_uuid": "6f2837d272a65a1032a1e93b671203608efa2210"
   },
   "outputs": [],
   "source": [
    "#%% Veri Eğitim ve Test verisi olarak ayrıldı..\n",
    "from sklearn.model_selection import train_test_split\n",
    "x_train, x_test, y_train, y_test = train_test_split(x_norm, Labels, test_size = 0.3, random_state = 1)\n"
   ]
  },
  {
   "cell_type": "code",
   "execution_count": 9,
   "metadata": {
    "_uuid": "fd8a2467d0a6683b3ef7ad8a4c79ab860de40969"
   },
   "outputs": [],
   "source": [
    "# Daha sonra sınıflandırıcıları karşılaştrırken kullanılacak score değerlerini tutması için liste oluşturuldu.\n",
    "SCORES = []"
   ]
  },
  {
   "cell_type": "markdown",
   "metadata": {
    "_uuid": "9e9ce82589ee65590785168424794c677859a0cf"
   },
   "source": [
    "**ADIM 7:  KNN Modelinin Kurulması Ve Test Edilmesi.**"
   ]
  },
  {
   "cell_type": "markdown",
   "metadata": {
    "_uuid": "90ca9345db7e5cbb96bc715ccddbf551233cd18d"
   },
   "source": [
    "![](https://upload.wikimedia.org/wikipedia/commons/e/e5/KNN_detec.JPG)\n",
    "***Kaynak : https://upload.wikimedia.org/wikipedia/commons/e/e5/KNN_detec.JPG***\n",
    "\n",
    "K-Nearest Neighbors (K-En Yakın Komşu) algoritması şu şekilde işler;\n",
    "* Test noktası seçilir.\n",
    "* Diğer tüm noktalar için test noktasına olan uzaklıklar hesaplanır.\n",
    "* En yakın \"K\" tane nokta bulunur.\n",
    "* Bu \"K\" tane noktanın etiketine bakılarak test noktası sınıflandırılır. Örneğin yukarıdaki resimde k=3'tür ve bu 3 komşunun 2 tanesi ikinci sınıfa, 1 tanesi birici sınıfa aittir. Dolayısıyla test noktası için \"ikinci sınıfa aittir\" diyebiliriz."
   ]
  },
  {
   "cell_type": "code",
   "execution_count": 10,
   "metadata": {
    "_uuid": "d3b747bf36878f3c91b01477128e4eccd0bc0e3a"
   },
   "outputs": [
    {
     "name": "stdout",
     "output_type": "stream",
     "text": [
      "Accuracy of Naive Bayes algorithm:  0.7419354838709677\n"
     ]
    }
   ],
   "source": [
    "#%% KNN Modeli\n",
    "from sklearn.neighbors import KNeighborsClassifier\n",
    "knn = KNeighborsClassifier(n_neighbors=5)\n",
    "knn.fit(x_train, y_train)\n",
    "prediction = knn.predict(x_test)\n",
    "\n",
    "print(\"Accuracy of Naive Bayes algorithm: \",knn.score(x_test, y_test))\n"
   ]
  },
  {
   "cell_type": "code",
   "execution_count": 11,
   "metadata": {
    "_uuid": "8c28e98147e2d12c8b4238d04a26109406c9c300"
   },
   "outputs": [
    {
     "data": {
      "image/png": "[encoded data removed]",
      "text/plain": [
       "<matplotlib.figure.Figure at 0x24f5fd27668>"
      ]
     },
     "metadata": {},
     "output_type": "display_data"
    },
    {
     "name": "stdout",
     "output_type": "stream",
     "text": [
      "Max. Accurancy is  0.8172043010752689 \n",
      "k value is : 21\n"
     ]
    }
   ],
   "source": [
    "# Uygun k değerinin seçilmesi\n",
    "score_list = []\n",
    "for each in range(1,30):\n",
    "    knn2 = KNeighborsClassifier(n_neighbors=each)\n",
    "    knn2.fit(x_train, y_train)\n",
    "    score_list.append(knn2.score(x_test,y_test))\n",
    "    \n",
    "plt.plot(range(1, 30), score_list)\n",
    "plt.xlabel(\"k value\")\n",
    "plt.ylabel(\"Accuracy\")\n",
    "plt.title(\"Accuracy - k Value Relationship\")\n",
    "plt.show()\n",
    "\n",
    "print(\"Max. Accurancy is \",np.max(score_list),\"\\nk value is :\", score_list.index(np.max(score_list)))\n",
    "SCORES.append([\"KNN\",np.max(score_list)])"
   ]
  },
  {
   "cell_type": "markdown",
   "metadata": {
    "_uuid": "003ab44a77d695ac6523f3e4a90aedba59f8f0f7"
   },
   "source": [
    "**ADIM 8: Naive Bayes Modelinin Kurulması Ve Test Edilmesi**"
   ]
  },
  {
   "cell_type": "code",
   "execution_count": 12,
   "metadata": {
    "_uuid": "23be72cea84417ce0b71124392e3ff9fe2d35eef"
   },
   "outputs": [
    {
     "name": "stdout",
     "output_type": "stream",
     "text": [
      "Accuracy of Naive Bayes algorithm:  0.8172043010752689\n"
     ]
    }
   ],
   "source": [
    "# %% Naive bayes \n",
    "from sklearn.naive_bayes import GaussianNB\n",
    "nb = GaussianNB()\n",
    "nb.fit(x_train,y_train)\n",
    " \n",
    "# test\n",
    "acc_nb = nb.score(x_test,y_test)\n",
    "print(\"Accuracy of Naive Bayes algorithm: \",acc_nb)\n",
    "SCORES.append([\"NB\",acc_nb])\n"
   ]
  },
  {
   "cell_type": "markdown",
   "metadata": {
    "_uuid": "dde38bdececd60642d7581674aebebc1cb3ad7dc"
   },
   "source": [
    "**ADIM 9: SVM Modelinin Kurulması Ve Test Edilmesi**"
   ]
  },
  {
   "cell_type": "code",
   "execution_count": 13,
   "metadata": {
    "_uuid": "18f69589b21d666265809cf6ad9053a9fcfd2ba5"
   },
   "outputs": [
    {
     "name": "stdout",
     "output_type": "stream",
     "text": [
      "Accuracy of SVM algorithm:  0.6881720430107527\n"
     ]
    }
   ],
   "source": [
    "# %% SVM\n",
    " \n",
    "from sklearn.svm import SVC\n",
    " \n",
    "svm = SVC(random_state = 1)\n",
    "svm.fit(x_train,y_train)\n",
    " \n",
    "#  test\n",
    "acc_svm = svm.score(x_test,y_test)\n",
    "print(\"Accuracy of SVM algorithm: \",acc_svm)\n",
    "SCORES.append([\"SVM\",acc_svm])\n",
    " "
   ]
  },
  {
   "cell_type": "markdown",
   "metadata": {
    "_uuid": "ff8460a4e38b9e8fdfff7e5af7fd10b1144f2b6d"
   },
   "source": [
    "**ADIM 10: Decision Tree Modelinin Kurulması Ve Test Edilmesi**"
   ]
  },
  {
   "cell_type": "code",
   "execution_count": 14,
   "metadata": {
    "_uuid": "ed86b61ab6e3cc27df4f5880a690e71c4686ea2c"
   },
   "outputs": [
    {
     "name": "stdout",
     "output_type": "stream",
     "text": [
      "Accuracy of Decision Tree algorithm:  0.7849462365591398\n"
     ]
    }
   ],
   "source": [
    "#%% Decision Tree\n",
    "from sklearn.tree import DecisionTreeClassifier\n",
    "dt = DecisionTreeClassifier()\n",
    "dt.fit(x_train,y_train)\n",
    "\n",
    "acc_dt = dt.score(x_test,y_test)\n",
    "print(\"Accuracy of Decision Tree algorithm: \",acc_dt ) \n",
    "SCORES.append([\"DT\",acc_dt])"
   ]
  },
  {
   "cell_type": "markdown",
   "metadata": {
    "_uuid": "4f89dff17a496a9f2fe0846edab6639fb52082d9"
   },
   "source": [
    "**ADIM 11: Random Forest Modelinin Kurulması Ve Test Edilmesi.**"
   ]
  },
  {
   "cell_type": "code",
   "execution_count": 15,
   "metadata": {
    "_uuid": "77ed2c89aff963ce9e915f91c50ab6b910972e3b"
   },
   "outputs": [
    {
     "name": "stdout",
     "output_type": "stream",
     "text": [
      "Accuracy of Random Forest algorithm:  0.8602150537634409\n"
     ]
    }
   ],
   "source": [
    "#%%  random forest\n",
    "from sklearn.ensemble import RandomForestClassifier\n",
    "\n",
    "rf = RandomForestClassifier(n_estimators = 100,random_state = 1)\n",
    "rf.fit(x_train,y_train)\n",
    "\n",
    "acc_rf = rf.score(x_test,y_test)\n",
    "print(\"Accuracy of Random Forest algorithm: \",acc_rf)\n",
    "SCORES.append([\"RF\",acc_rf])"
   ]
  },
  {
   "cell_type": "markdown",
   "metadata": {
    "_uuid": "ebf2f3043582d6ad2c652ab18e2743804d5f6fb2"
   },
   "source": [
    "**ADIM 12: Logistic Regression Modelinin Kurulması Ve Test Edilmesi.**"
   ]
  },
  {
   "cell_type": "code",
   "execution_count": 16,
   "metadata": {
    "_uuid": "e319bfa9b86175668e753c2669f5811edb13802d"
   },
   "outputs": [
    {
     "name": "stdout",
     "output_type": "stream",
     "text": [
      "Accuracy of Logistic Regression algorithm:  0.7526881720430108\n"
     ]
    }
   ],
   "source": [
    "#%% Logistic Regression \n",
    "from sklearn.linear_model import LogisticRegression\n",
    "lr = LogisticRegression()\n",
    "lr.fit(x_train,y_train)\n",
    "\n",
    "acc_lr = lr.score(x_test,y_test)\n",
    "print(\"Accuracy of Logistic Regression algorithm: \",acc_lr)\n",
    "SCORES.append([\"LReg.\",acc_lr])"
   ]
  },
  {
   "cell_type": "markdown",
   "metadata": {
    "_uuid": "cbf1e601c403fcae95d3bd4010ac62e4983ab899"
   },
   "source": [
    "**ADIM 13: Performansların Karşılaştırılması.**"
   ]
  },
  {
   "cell_type": "code",
   "execution_count": 17,
   "metadata": {
    "_uuid": "5b0810722e9b8aae5891a8604fbe2fcf2c7da2c3"
   },
   "outputs": [
    {
     "data": {
      "image/png": "[encoded data removed]",
      "text/plain": [
       "<matplotlib.figure.Figure at 0x24f5e064630>"
      ]
     },
     "metadata": {},
     "output_type": "display_data"
    }
   ],
   "source": [
    "# Sınıflandırıcıların Performanslarına bakıldığında SVM'in en yüksek başarıya sahip olduğunu\n",
    "# görüyoruz.Decision Tree ise en düşük başarıya sahiptir.\n",
    "SCORES = np.array(SCORES)\n",
    "SCORES.sort(axis=0)\n",
    "\n",
    "r,c = SCORES.shape\n",
    "for idx in range(0, r):\n",
    "    SCORES[idx,1] = '{:.5s}'.format(SCORES[idx,1])\n",
    "\n",
    "plt.plot(SCORES[:,0],SCORES[:,1])\n",
    "plt.ylabel(\"Accuracy\")\n",
    "plt.title(\"Accuracy - Classifiers Relationship\")\n",
    "plt.show()\n"
   ]
  }
 ],
 "metadata": {
  "kernelspec": {
   "display_name": "Python 3",
   "language": "python",
   "name": "python3"
  },
  "language_info": {
   "codemirror_mode": {
    "name": "ipython",
    "version": 3
   },
   "file_extension": ".py",
   "mimetype": "text/x-python",
   "name": "python",
   "nbconvert_exporter": "python",
   "pygments_lexer": "ipython3",
   "version": "3.6.4"
  }
 },
 "nbformat": 4,
 "nbformat_minor": 1
}
